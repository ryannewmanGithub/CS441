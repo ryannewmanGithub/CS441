{
 "cells": [
  {
   "cell_type": "code",
   "execution_count": 1,
   "metadata": {},
   "outputs": [],
   "source": [
    "import pandas as pd\n",
    "import numpy as np\n",
    "import sklearn\n"
   ]
  },
  {
   "cell_type": "code",
   "execution_count": 2,
   "metadata": {},
   "outputs": [
    {
     "name": "stdout",
     "output_type": "stream",
     "text": [
      "\n",
      "System:\n",
      "    python: 3.12.3 (main, Feb  4 2025, 14:48:35) [GCC 13.3.0]\n",
      "executable: /mnt/c/Users/swats/School/Senior Year (2024-2025)/Spring Semester (2025)/CS 441/CS441 Actual/my-venv/bin/python3\n",
      "   machine: Linux-5.15.153.1-microsoft-standard-WSL2-x86_64-with-glibc2.39\n",
      "\n",
      "Python dependencies:\n",
      "      sklearn: 1.6.1\n",
      "          pip: 24.0\n",
      "   setuptools: 76.0.0\n",
      "        numpy: 2.2.3\n",
      "        scipy: 1.15.2\n",
      "       Cython: None\n",
      "       pandas: 2.2.3\n",
      "   matplotlib: 3.10.1\n",
      "       joblib: 1.4.2\n",
      "threadpoolctl: 3.5.0\n",
      "\n",
      "Built with OpenMP: True\n",
      "\n",
      "threadpoolctl info:\n",
      "       user_api: blas\n",
      "   internal_api: openblas\n",
      "    num_threads: 8\n",
      "         prefix: libscipy_openblas\n",
      "       filepath: /mnt/c/Users/swats/School/Senior Year (2024-2025)/Spring Semester (2025)/CS 441/CS441 Actual/my-venv/lib/python3.12/site-packages/numpy.libs/libscipy_openblas64_-6bb31eeb.so\n",
      "        version: 0.3.28\n",
      "threading_layer: pthreads\n",
      "   architecture: SkylakeX\n",
      "\n",
      "       user_api: blas\n",
      "   internal_api: openblas\n",
      "    num_threads: 8\n",
      "         prefix: libscipy_openblas\n",
      "       filepath: /mnt/c/Users/swats/School/Senior Year (2024-2025)/Spring Semester (2025)/CS 441/CS441 Actual/my-venv/lib/python3.12/site-packages/scipy.libs/libscipy_openblas-68440149.so\n",
      "        version: 0.3.28\n",
      "threading_layer: pthreads\n",
      "   architecture: SkylakeX\n",
      "\n",
      "       user_api: openmp\n",
      "   internal_api: openmp\n",
      "    num_threads: 8\n",
      "         prefix: libgomp\n",
      "       filepath: /mnt/c/Users/swats/School/Senior Year (2024-2025)/Spring Semester (2025)/CS 441/CS441 Actual/my-venv/lib/python3.12/site-packages/scikit_learn.libs/libgomp-a34b3233.so.1.0.0\n",
      "        version: None\n"
     ]
    }
   ],
   "source": [
    "sklearn.show_versions()"
   ]
  },
  {
   "cell_type": "code",
   "execution_count": 3,
   "metadata": {},
   "outputs": [],
   "source": [
    "df = pd.read_csv(\"combined_data.csv\")"
   ]
  },
  {
   "cell_type": "code",
   "execution_count": 4,
   "metadata": {},
   "outputs": [
    {
     "data": {
      "text/plain": [
       "Index(['title', 'publishedAt', 'channelTitle', 'categoryId', 'trending_date',\n",
       "       'tags', 'view_count', 'likes', 'dislikes', 'comment_count',\n",
       "       'comments_disabled', 'ratings_disabled', 'description', 'titleLen',\n",
       "       'descriptionLen', 'titleSentiment', 'descriptionSentiment',\n",
       "       'titleReadabilityConsensus', 'descriptionReadabilityConsensus',\n",
       "       'titleForeignReadability', 'descriptionForeignReadability',\n",
       "       'titleTimeToRead', 'descriptionTimeToRead', 'descriptionSyllableCount',\n",
       "       'titleSyllableCount', 'avgTagSentiment', 'avgTagReadabilityConsensus',\n",
       "       'avgTagForeignReadability', 'avgTagSyllableCount', 'HoursFromMidnight',\n",
       "       'PublishWeekday', 'PublishMonth', 'daysToTrend', 'viewsPerDay',\n",
       "       'isTopViewsPerDay', 'numTags', 'CategoryName', 'descriptionWordCount',\n",
       "       'titleWordCount'],\n",
       "      dtype='object')"
      ]
     },
     "execution_count": 4,
     "metadata": {},
     "output_type": "execute_result"
    }
   ],
   "source": [
    "df.columns"
   ]
  },
  {
   "cell_type": "code",
   "execution_count": 5,
   "metadata": {},
   "outputs": [],
   "source": [
    "model_features = ['comments_disabled', 'ratings_disabled', 'titleLen', 'descriptionLen', 'titleSentiment',\n",
    "                  'descriptionSentiment', 'titleReadabilityConsensus', 'descriptionReadabilityConsensus',\n",
    "                  'titleForeignReadability', 'descriptionForeignReadability', 'titleTimeToRead',\n",
    "                  'descriptionTimeToRead', 'descriptionSyllableCount', 'titleSyllableCount', 'avgTagSentiment',\n",
    "                  'avgTagReadabilityConsensus', 'avgTagForeignReadability', 'avgTagSyllableCount', \n",
    "                  'HoursFromMidnight', 'PublishWeekday', 'PublishMonth', 'numTags', 'CategoryName',\n",
    "                  'descriptionWordCount', 'titleWordCount']"
   ]
  },
  {
   "cell_type": "code",
   "execution_count": 6,
   "metadata": {},
   "outputs": [],
   "source": [
    "from sklearn.ensemble import HistGradientBoostingClassifier"
   ]
  },
  {
   "cell_type": "code",
   "execution_count": 10,
   "metadata": {},
   "outputs": [],
   "source": [
    "X = df[model_features]"
   ]
  },
  {
   "cell_type": "code",
   "execution_count": 14,
   "metadata": {},
   "outputs": [],
   "source": [
    "y = df['isTopViewsPerDay']"
   ]
  },
  {
   "cell_type": "code",
   "execution_count": 18,
   "metadata": {},
   "outputs": [],
   "source": [
    "from sklearn.model_selection import train_test_split"
   ]
  },
  {
   "cell_type": "code",
   "execution_count": 19,
   "metadata": {},
   "outputs": [],
   "source": [
    "X_train, X_test, y_train, y_test = train_test_split(X, y, test_size=0.3, random_state=2025)"
   ]
  },
  {
   "cell_type": "code",
   "execution_count": 20,
   "metadata": {},
   "outputs": [],
   "source": [
    "from sklearn.model_selection import cross_val_score\n"
   ]
  },
  {
   "cell_type": "code",
   "execution_count": 24,
   "metadata": {},
   "outputs": [
    {
     "data": {
      "text/plain": [
       "array([0.85192241, 0.85226879, 0.85105646, 0.8503637 , 0.85140284,\n",
       "       0.85122965, 0.85174922, 0.85244198, 0.85001732, 0.85120388])"
      ]
     },
     "execution_count": 24,
     "metadata": {},
     "output_type": "execute_result"
    }
   ],
   "source": [
    "clf = HistGradientBoostingClassifier(categorical_features=[\"comments_disabled\", \"ratings_disabled\", \"PublishWeekday\", \"PublishMonth\", \"CategoryName\"],\n",
    "                                     max_iter=100, max_depth=3).fit(X_train, y_train)\n",
    "scores = cross_val_score(clf, X_train, y_train, cv=10)\n",
    "scores"
   ]
  },
  {
   "cell_type": "code",
   "execution_count": 25,
   "metadata": {},
   "outputs": [],
   "source": [
    "import pickle"
   ]
  },
  {
   "cell_type": "code",
   "execution_count": 26,
   "metadata": {},
   "outputs": [],
   "source": [
    "with open('basicGradientBoosting_model.pkl', 'wb') as f:\n",
    "    pickle.dump(clf, f)"
   ]
  },
  {
   "cell_type": "code",
   "execution_count": 27,
   "metadata": {},
   "outputs": [
    {
     "name": "stdout",
     "output_type": "stream",
     "text": [
      "[0.85174922 0.85157603 0.85019051 0.85053689 0.85140284 0.85088327\n",
      " 0.85157603 0.85278836 0.85001732 0.85016456]\n"
     ]
    }
   ],
   "source": [
    "\"\"\"\n",
    "with open('basicGradientBoosting_model.pkl', 'rb') as file:\n",
    "    clf = pickle.load(file)\n",
    "    scores = cross_val_score(clf, X_train, y_train, cv=10)\n",
    "    print(scores)\n",
    "\"\"\""
   ]
  },
  {
   "cell_type": "code",
   "execution_count": 28,
   "metadata": {},
   "outputs": [
    {
     "name": "stdout",
     "output_type": "stream",
     "text": [
      "[0.85174922 0.8520956  0.85053689 0.85105646 0.85122965 0.8520956\n",
      " 0.85174922 0.85365431 0.85105646 0.8513771 ]\n"
     ]
    }
   ],
   "source": []
  }
 ],
 "metadata": {
  "kernelspec": {
   "display_name": "Python 3 (ipykernel)",
   "language": "python",
   "name": "python3"
  },
  "language_info": {
   "codemirror_mode": {
    "name": "ipython",
    "version": 3
   },
   "file_extension": ".py",
   "mimetype": "text/x-python",
   "name": "python",
   "nbconvert_exporter": "python",
   "pygments_lexer": "ipython3",
   "version": "3.12.3"
  }
 },
 "nbformat": 4,
 "nbformat_minor": 4
}
